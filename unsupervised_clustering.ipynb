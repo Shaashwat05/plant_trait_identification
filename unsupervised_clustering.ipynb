{
 "cells": [
  {
   "cell_type": "code",
   "execution_count": null,
   "metadata": {},
   "outputs": [],
   "source": [
    "import pandas as pd\n",
    "import numpy as np\n",
    "import wget\n",
    "from tqdm import tqdm\n",
    "import cv2 \n",
    "import matplotlib.pyplot as plt\n",
    "from PIL import Image\n",
    "import glob \n",
    "\n",
    "import tensorflow as tf\n",
    "\n",
    "from sklearn.decomposition import PCA\n",
    "from sklearn.cluster import KMeans"
   ]
  },
  {
   "attachments": {},
   "cell_type": "markdown",
   "metadata": {},
   "source": [
    "## Segmenting Plant Images"
   ]
  },
  {
   "cell_type": "code",
   "execution_count": null,
   "metadata": {},
   "outputs": [],
   "source": [
    "img = cv2.imread(\"milkweed/images/4170.jpg\")\n",
    "img = cv2.cvtColor(img, cv2.COLOR_BGR2RGB)\n",
    "hsv = cv2.cvtColor(img, cv2.COLOR_BGR2HSV)\n",
    "\n",
    "low_green = np.array([30, 0, 0])\n",
    "high_green = np.array([95, 255, 255])\n",
    "\n",
    "mask = cv2.inRange(hsv, low_green, high_green)\n",
    "\n",
    "kernel = np.ones((5, 5), np.uint8)\n",
    "mask = cv2.erode(mask, kernel) \n",
    "mask = cv2.erode(mask, kernel) \n",
    "mask = cv2.dilate(mask, kernel) \n",
    "\n",
    "res = cv2.bitwise_and(img,img, mask= mask)\n",
    "\n",
    "nb_blobs, im_with_separated_blobs, stats, _ = cv2.connectedComponentsWithStats(mask)\n",
    "sizes = stats[:, -1]\n",
    "sizes = sizes[1:]\n",
    "nb_blobs -= 1\n",
    "\n",
    "min_size = 20500  \n",
    "\n",
    "im_result = np.zeros_like(im_with_separated_blobs)\n",
    "for blob in range(nb_blobs):\n",
    "    if sizes[blob] >= min_size:\n",
    "        im_result[im_with_separated_blobs == blob + 1] = 255\n",
    "\n",
    "res = cv2.bitwise_and(img,img, mask= np.array(im_result).astype(np.uint8))\n",
    "\n",
    "fig, (ax1, ax2, ax3) = plt.subplots(1, 3, figsize = (10,10))\n",
    "fig.tight_layout()\n",
    "ax1.imshow(img)\n",
    "ax2.imshow(255 - mask, cmap=\"Greys\")\n",
    "ax3.imshow(res)"
   ]
  },
  {
   "attachments": {},
   "cell_type": "markdown",
   "metadata": {},
   "source": [
    "## Greenness Identification"
   ]
  },
  {
   "cell_type": "code",
   "execution_count": null,
   "metadata": {},
   "outputs": [],
   "source": [
    "img = cv2.imread(\"milkweed/images/4198.jpg\")\n",
    "img = cv2.cvtColor(img, cv2.COLOR_BGR2RGB)\n",
    "img = img / 255\n",
    "\n",
    "ExG = 2*img[:, :, 1] - img[:, :, 0] - img[:, :, 2]\n",
    "ExGR = ExG - (1.4*img[:, :, 0] - img[:, :, 1])\n",
    "VEG = img[:, :, 1] / ((img[:, :, 0]**0.667)*(img[:, :, 2]**0.333))\n",
    "CIVE = (0.441*img[:, :, 0]) - (0.881*img[:, :, 1]) + (0.385*img[:, :, 2]) + 18.78745\n",
    "COM = (0.25*ExG) + (0.30*ExGR) + (0.33*CIVE) + (0.12*VEG)\n",
    "\n",
    "mask = np.where(COM < 7, 1, 0)\n",
    "\n",
    "res = cv2.bitwise_and(img,img, mask= np.array(mask).astype(np.uint8))\n",
    "\n",
    "fig, (ax1, ax2, ax3) = plt.subplots(1, 3, figsize = (10,10))\n",
    "fig.tight_layout()\n",
    "ax1.imshow(img)\n",
    "ax2.imshow(255 - mask, cmap=\"Greys\")\n",
    "ax3.imshow(res)"
   ]
  }
 ],
 "metadata": {
  "language_info": {
   "name": "python"
  },
  "orig_nbformat": 4
 },
 "nbformat": 4,
 "nbformat_minor": 2
}
