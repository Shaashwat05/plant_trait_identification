{
  "cells": [
    {
      "cell_type": "code",
      "execution_count": 1,
      "metadata": {
        "colab": {
          "base_uri": "https://localhost:8080/"
        },
        "id": "zmtJIek-ArwD",
        "outputId": "6d34cc79-eba5-49c8-f132-b068098b17c3"
      },
      "outputs": [
        {
          "output_type": "stream",
          "name": "stdout",
          "text": [
            "Looking in indexes: https://pypi.org/simple, https://us-python.pkg.dev/colab-wheels/public/simple/\n",
            "Collecting wget\n",
            "  Downloading wget-3.2.zip (10 kB)\n",
            "  Preparing metadata (setup.py) ... \u001b[?25l\u001b[?25hdone\n",
            "Building wheels for collected packages: wget\n",
            "  Building wheel for wget (setup.py) ... \u001b[?25l\u001b[?25hdone\n",
            "  Created wheel for wget: filename=wget-3.2-py3-none-any.whl size=9657 sha256=b12b40f9709deb00a50c3877a53479b850b0b52aa9809d5c45a4fb55bbd60409\n",
            "  Stored in directory: /root/.cache/pip/wheels/8b/f1/7f/5c94f0a7a505ca1c81cd1d9208ae2064675d97582078e6c769\n",
            "Successfully built wget\n",
            "Installing collected packages: wget\n",
            "Successfully installed wget-3.2\n"
          ]
        }
      ],
      "source": [
        "pip install wget"
      ]
    },
    {
      "cell_type": "code",
      "execution_count": 2,
      "metadata": {
        "id": "w6sjutTn7kc2"
      },
      "outputs": [],
      "source": [
        "import re\n",
        "import pandas as pd\n",
        "import numpy as np\n",
        "import re\n",
        "import matplotlib.pyplot as plt\n",
        "import os\n",
        "import cv2\n",
        "import glob\n",
        "from tqdm import tqdm\n",
        "from sklearn.preprocessing import MinMaxScaler\n",
        "import shutil\n",
        "from decimal import Decimal, getcontext\n",
        "import wget\n",
        "import requests\n",
        "from urllib.request import urlopen as uReq\n",
        "from google.colab.patches import cv2_imshow\n",
        "import datetime\n",
        "import altair as alt\n",
        "\n",
        "from PIL import Image\n",
        "import glob \n",
        "\n",
        "import tensorflow as tf\n",
        "\n",
        "from sklearn.decomposition import PCA\n",
        "from sklearn.cluster import KMeans"
      ]
    },
    {
      "cell_type": "code",
      "execution_count": 3,
      "metadata": {
        "colab": {
          "base_uri": "https://localhost:8080/",
          "height": 467
        },
        "id": "aIXBp2_f7q4U",
        "outputId": "8b024a34-ffc4-4a43-f538-575b666f14f8"
      },
      "outputs": [
        {
          "output_type": "execute_result",
          "data": {
            "text/plain": [
              "       id                       observed_on_string observed_on  \\\n",
              "0  101943  Sun Jul 15 2012 14:33:04 GMT-0500 (CDT)   7/15/2012   \n",
              "1  160843                               12/11/2012  12/11/2012   \n",
              "2  311680            June 25, 2013 10:49:00 AM CDT   6/25/2013   \n",
              "3  375506  Wed Aug 21 2013 10:31:33 GMT-0500 (CDT)   8/21/2013   \n",
              "4  393770                           9/5/2013 14:32    9/5/2013   \n",
              "\n",
              "          time_observed_at                   time_zone  user_id    user_login  \\\n",
              "0  2012-07-15 19:33:04 UTC  Central Time (US & Canada)     6113   montanamike   \n",
              "1                      NaN  Central Time (US & Canada)     8882     bouteloua   \n",
              "2  2013-06-25 15:49:00 UTC  Central Time (US & Canada)    18260     mergirl22   \n",
              "3  2013-08-21 15:31:33 UTC  Central Time (US & Canada)    19192      eplonka1   \n",
              "4  2013-09-05 21:32:03 UTC  Pacific Time (US & Canada)     2991  sea-kangaroo   \n",
              "\n",
              "     user_name               created_at               updated_at  ...  \\\n",
              "0          NaN  2012-07-16 01:41:15 UTC  2017-05-13 02:16:27 UTC  ...   \n",
              "1  cassi saari  2012-12-12 02:52:15 UTC  2018-03-11 20:16:29 UTC  ...   \n",
              "2          NaN  2013-06-25 19:54:12 UTC  2017-05-13 02:26:32 UTC  ...   \n",
              "3          NaN  2013-08-24 15:22:46 UTC  2017-05-13 03:31:51 UTC  ...   \n",
              "4          NaN  2013-09-10 21:12:19 UTC  2023-03-05 17:34:49 UTC  ...   \n",
              "\n",
              "  geoprivacy taxon_geoprivacy coordinates_obscured positioning_method  \\\n",
              "0        NaN              NaN                False                NaN   \n",
              "1        NaN              NaN                False                NaN   \n",
              "2        NaN              NaN                False                gps   \n",
              "3        NaN              NaN                False                NaN   \n",
              "4        NaN              NaN                False                NaN   \n",
              "\n",
              "   positioning_device       species_guess    scientific_name      common_name  \\\n",
              "0                 NaN     common milkweed  Asclepias syriaca  common milkweed   \n",
              "1                 NaN     common milkweed  Asclepias syriaca  common milkweed   \n",
              "2                 gps     common milkweed  Asclepias syriaca  common milkweed   \n",
              "3                 NaN     common milkweed  Asclepias syriaca  common milkweed   \n",
              "4              manual  Broadleaf Milkweed  Asclepias syriaca  common milkweed   \n",
              "\n",
              "   iconic_taxon_name  taxon_id  \n",
              "0            Plantae     47911  \n",
              "1            Plantae     47911  \n",
              "2            Plantae     47911  \n",
              "3            Plantae     47911  \n",
              "4            Plantae     47911  \n",
              "\n",
              "[5 rows x 39 columns]"
            ],
            "text/html": [
              "\n",
              "  <div id=\"df-92773671-ca87-4f83-b781-903d76320508\">\n",
              "    <div class=\"colab-df-container\">\n",
              "      <div>\n",
              "<style scoped>\n",
              "    .dataframe tbody tr th:only-of-type {\n",
              "        vertical-align: middle;\n",
              "    }\n",
              "\n",
              "    .dataframe tbody tr th {\n",
              "        vertical-align: top;\n",
              "    }\n",
              "\n",
              "    .dataframe thead th {\n",
              "        text-align: right;\n",
              "    }\n",
              "</style>\n",
              "<table border=\"1\" class=\"dataframe\">\n",
              "  <thead>\n",
              "    <tr style=\"text-align: right;\">\n",
              "      <th></th>\n",
              "      <th>id</th>\n",
              "      <th>observed_on_string</th>\n",
              "      <th>observed_on</th>\n",
              "      <th>time_observed_at</th>\n",
              "      <th>time_zone</th>\n",
              "      <th>user_id</th>\n",
              "      <th>user_login</th>\n",
              "      <th>user_name</th>\n",
              "      <th>created_at</th>\n",
              "      <th>updated_at</th>\n",
              "      <th>...</th>\n",
              "      <th>geoprivacy</th>\n",
              "      <th>taxon_geoprivacy</th>\n",
              "      <th>coordinates_obscured</th>\n",
              "      <th>positioning_method</th>\n",
              "      <th>positioning_device</th>\n",
              "      <th>species_guess</th>\n",
              "      <th>scientific_name</th>\n",
              "      <th>common_name</th>\n",
              "      <th>iconic_taxon_name</th>\n",
              "      <th>taxon_id</th>\n",
              "    </tr>\n",
              "  </thead>\n",
              "  <tbody>\n",
              "    <tr>\n",
              "      <th>0</th>\n",
              "      <td>101943</td>\n",
              "      <td>Sun Jul 15 2012 14:33:04 GMT-0500 (CDT)</td>\n",
              "      <td>7/15/2012</td>\n",
              "      <td>2012-07-15 19:33:04 UTC</td>\n",
              "      <td>Central Time (US &amp; Canada)</td>\n",
              "      <td>6113</td>\n",
              "      <td>montanamike</td>\n",
              "      <td>NaN</td>\n",
              "      <td>2012-07-16 01:41:15 UTC</td>\n",
              "      <td>2017-05-13 02:16:27 UTC</td>\n",
              "      <td>...</td>\n",
              "      <td>NaN</td>\n",
              "      <td>NaN</td>\n",
              "      <td>False</td>\n",
              "      <td>NaN</td>\n",
              "      <td>NaN</td>\n",
              "      <td>common milkweed</td>\n",
              "      <td>Asclepias syriaca</td>\n",
              "      <td>common milkweed</td>\n",
              "      <td>Plantae</td>\n",
              "      <td>47911</td>\n",
              "    </tr>\n",
              "    <tr>\n",
              "      <th>1</th>\n",
              "      <td>160843</td>\n",
              "      <td>12/11/2012</td>\n",
              "      <td>12/11/2012</td>\n",
              "      <td>NaN</td>\n",
              "      <td>Central Time (US &amp; Canada)</td>\n",
              "      <td>8882</td>\n",
              "      <td>bouteloua</td>\n",
              "      <td>cassi saari</td>\n",
              "      <td>2012-12-12 02:52:15 UTC</td>\n",
              "      <td>2018-03-11 20:16:29 UTC</td>\n",
              "      <td>...</td>\n",
              "      <td>NaN</td>\n",
              "      <td>NaN</td>\n",
              "      <td>False</td>\n",
              "      <td>NaN</td>\n",
              "      <td>NaN</td>\n",
              "      <td>common milkweed</td>\n",
              "      <td>Asclepias syriaca</td>\n",
              "      <td>common milkweed</td>\n",
              "      <td>Plantae</td>\n",
              "      <td>47911</td>\n",
              "    </tr>\n",
              "    <tr>\n",
              "      <th>2</th>\n",
              "      <td>311680</td>\n",
              "      <td>June 25, 2013 10:49:00 AM CDT</td>\n",
              "      <td>6/25/2013</td>\n",
              "      <td>2013-06-25 15:49:00 UTC</td>\n",
              "      <td>Central Time (US &amp; Canada)</td>\n",
              "      <td>18260</td>\n",
              "      <td>mergirl22</td>\n",
              "      <td>NaN</td>\n",
              "      <td>2013-06-25 19:54:12 UTC</td>\n",
              "      <td>2017-05-13 02:26:32 UTC</td>\n",
              "      <td>...</td>\n",
              "      <td>NaN</td>\n",
              "      <td>NaN</td>\n",
              "      <td>False</td>\n",
              "      <td>gps</td>\n",
              "      <td>gps</td>\n",
              "      <td>common milkweed</td>\n",
              "      <td>Asclepias syriaca</td>\n",
              "      <td>common milkweed</td>\n",
              "      <td>Plantae</td>\n",
              "      <td>47911</td>\n",
              "    </tr>\n",
              "    <tr>\n",
              "      <th>3</th>\n",
              "      <td>375506</td>\n",
              "      <td>Wed Aug 21 2013 10:31:33 GMT-0500 (CDT)</td>\n",
              "      <td>8/21/2013</td>\n",
              "      <td>2013-08-21 15:31:33 UTC</td>\n",
              "      <td>Central Time (US &amp; Canada)</td>\n",
              "      <td>19192</td>\n",
              "      <td>eplonka1</td>\n",
              "      <td>NaN</td>\n",
              "      <td>2013-08-24 15:22:46 UTC</td>\n",
              "      <td>2017-05-13 03:31:51 UTC</td>\n",
              "      <td>...</td>\n",
              "      <td>NaN</td>\n",
              "      <td>NaN</td>\n",
              "      <td>False</td>\n",
              "      <td>NaN</td>\n",
              "      <td>NaN</td>\n",
              "      <td>common milkweed</td>\n",
              "      <td>Asclepias syriaca</td>\n",
              "      <td>common milkweed</td>\n",
              "      <td>Plantae</td>\n",
              "      <td>47911</td>\n",
              "    </tr>\n",
              "    <tr>\n",
              "      <th>4</th>\n",
              "      <td>393770</td>\n",
              "      <td>9/5/2013 14:32</td>\n",
              "      <td>9/5/2013</td>\n",
              "      <td>2013-09-05 21:32:03 UTC</td>\n",
              "      <td>Pacific Time (US &amp; Canada)</td>\n",
              "      <td>2991</td>\n",
              "      <td>sea-kangaroo</td>\n",
              "      <td>NaN</td>\n",
              "      <td>2013-09-10 21:12:19 UTC</td>\n",
              "      <td>2023-03-05 17:34:49 UTC</td>\n",
              "      <td>...</td>\n",
              "      <td>NaN</td>\n",
              "      <td>NaN</td>\n",
              "      <td>False</td>\n",
              "      <td>NaN</td>\n",
              "      <td>manual</td>\n",
              "      <td>Broadleaf Milkweed</td>\n",
              "      <td>Asclepias syriaca</td>\n",
              "      <td>common milkweed</td>\n",
              "      <td>Plantae</td>\n",
              "      <td>47911</td>\n",
              "    </tr>\n",
              "  </tbody>\n",
              "</table>\n",
              "<p>5 rows × 39 columns</p>\n",
              "</div>\n",
              "      <button class=\"colab-df-convert\" onclick=\"convertToInteractive('df-92773671-ca87-4f83-b781-903d76320508')\"\n",
              "              title=\"Convert this dataframe to an interactive table.\"\n",
              "              style=\"display:none;\">\n",
              "        \n",
              "  <svg xmlns=\"http://www.w3.org/2000/svg\" height=\"24px\"viewBox=\"0 0 24 24\"\n",
              "       width=\"24px\">\n",
              "    <path d=\"M0 0h24v24H0V0z\" fill=\"none\"/>\n",
              "    <path d=\"M18.56 5.44l.94 2.06.94-2.06 2.06-.94-2.06-.94-.94-2.06-.94 2.06-2.06.94zm-11 1L8.5 8.5l.94-2.06 2.06-.94-2.06-.94L8.5 2.5l-.94 2.06-2.06.94zm10 10l.94 2.06.94-2.06 2.06-.94-2.06-.94-.94-2.06-.94 2.06-2.06.94z\"/><path d=\"M17.41 7.96l-1.37-1.37c-.4-.4-.92-.59-1.43-.59-.52 0-1.04.2-1.43.59L10.3 9.45l-7.72 7.72c-.78.78-.78 2.05 0 2.83L4 21.41c.39.39.9.59 1.41.59.51 0 1.02-.2 1.41-.59l7.78-7.78 2.81-2.81c.8-.78.8-2.07 0-2.86zM5.41 20L4 18.59l7.72-7.72 1.47 1.35L5.41 20z\"/>\n",
              "  </svg>\n",
              "      </button>\n",
              "      \n",
              "  <style>\n",
              "    .colab-df-container {\n",
              "      display:flex;\n",
              "      flex-wrap:wrap;\n",
              "      gap: 12px;\n",
              "    }\n",
              "\n",
              "    .colab-df-convert {\n",
              "      background-color: #E8F0FE;\n",
              "      border: none;\n",
              "      border-radius: 50%;\n",
              "      cursor: pointer;\n",
              "      display: none;\n",
              "      fill: #1967D2;\n",
              "      height: 32px;\n",
              "      padding: 0 0 0 0;\n",
              "      width: 32px;\n",
              "    }\n",
              "\n",
              "    .colab-df-convert:hover {\n",
              "      background-color: #E2EBFA;\n",
              "      box-shadow: 0px 1px 2px rgba(60, 64, 67, 0.3), 0px 1px 3px 1px rgba(60, 64, 67, 0.15);\n",
              "      fill: #174EA6;\n",
              "    }\n",
              "\n",
              "    [theme=dark] .colab-df-convert {\n",
              "      background-color: #3B4455;\n",
              "      fill: #D2E3FC;\n",
              "    }\n",
              "\n",
              "    [theme=dark] .colab-df-convert:hover {\n",
              "      background-color: #434B5C;\n",
              "      box-shadow: 0px 1px 3px 1px rgba(0, 0, 0, 0.15);\n",
              "      filter: drop-shadow(0px 1px 2px rgba(0, 0, 0, 0.3));\n",
              "      fill: #FFFFFF;\n",
              "    }\n",
              "  </style>\n",
              "\n",
              "      <script>\n",
              "        const buttonEl =\n",
              "          document.querySelector('#df-92773671-ca87-4f83-b781-903d76320508 button.colab-df-convert');\n",
              "        buttonEl.style.display =\n",
              "          google.colab.kernel.accessAllowed ? 'block' : 'none';\n",
              "\n",
              "        async function convertToInteractive(key) {\n",
              "          const element = document.querySelector('#df-92773671-ca87-4f83-b781-903d76320508');\n",
              "          const dataTable =\n",
              "            await google.colab.kernel.invokeFunction('convertToInteractive',\n",
              "                                                     [key], {});\n",
              "          if (!dataTable) return;\n",
              "\n",
              "          const docLinkHtml = 'Like what you see? Visit the ' +\n",
              "            '<a target=\"_blank\" href=https://colab.research.google.com/notebooks/data_table.ipynb>data table notebook</a>'\n",
              "            + ' to learn more about interactive tables.';\n",
              "          element.innerHTML = '';\n",
              "          dataTable['output_type'] = 'display_data';\n",
              "          await google.colab.output.renderOutput(dataTable, element);\n",
              "          const docLink = document.createElement('div');\n",
              "          docLink.innerHTML = docLinkHtml;\n",
              "          element.appendChild(docLink);\n",
              "        }\n",
              "      </script>\n",
              "    </div>\n",
              "  </div>\n",
              "  "
            ]
          },
          "metadata": {},
          "execution_count": 3
        }
      ],
      "source": [
        "mdata = pd.read_csv('milkweed/Milkweed_iNaturalist.csv', sep=',', encoding='latin-1')\n",
        "mdata.head()"
      ]
    },
    {
      "cell_type": "code",
      "execution_count": 4,
      "metadata": {
        "id": "5bYbB4vu7sw2"
      },
      "outputs": [],
      "source": [
        "imgnames = []\n",
        "\n",
        "for val in range(len(mdata)):\n",
        "  try:\n",
        "    url = mdata.image_url[val]\n",
        "    wget.download(url, out='milkweed/img/')\n",
        "    old_name = 'milkweed/img/'+ url[url.rindex('/')+1:]\n",
        "    new_name = 'milkweed/img/'+ url[url.rindex('/')+1: url.rindex('.')] + str(val) + url[url.rindex('.'):]\n",
        "    os.rename(old_name, new_name)\n",
        "    imgnames.append(new_name)\n",
        "  except:\n",
        "    print(val)\n",
        "\n",
        "mdata['images'] = imgnames"
      ]
    },
    {
      "cell_type": "markdown",
      "source": [
        "# **Clustering Based On Month**"
      ],
      "metadata": {
        "id": "xjAMaWHXFQps"
      }
    },
    {
      "cell_type": "code",
      "source": [
        "months = pd.to_datetime(mdata['observed_on'], format='%m/%d/%Y').dt.month \n",
        "mdata['month'] = months\n"
      ],
      "metadata": {
        "id": "by8oljM-0h-P"
      },
      "execution_count": 5,
      "outputs": []
    },
    {
      "cell_type": "code",
      "source": [
        "\n",
        "x = list(set(mdata['month']))\n",
        "y = list(mdata['month'].value_counts(sort=False).sort_index())"
      ],
      "metadata": {
        "id": "hEIoItGKUz_0"
      },
      "execution_count": 53,
      "outputs": []
    },
    {
      "cell_type": "code",
      "source": [
        "ig = plt.figure()\n",
        " \n",
        "# creating the bar plot\n",
        "plt.bar(x, y, color ='green',\n",
        "        width = 0.4)\n",
        " \n",
        "plt.xlabel(\"Month\")\n",
        "plt.ylabel(\"No. of Images in that Month\")\n",
        "plt.title(\"Image Distribution\")\n",
        "plt.show()"
      ],
      "metadata": {
        "colab": {
          "base_uri": "https://localhost:8080/",
          "height": 472
        },
        "id": "xjIzsnhRWUFN",
        "outputId": "798874b9-0c76-426d-a2f0-d832c2baef78"
      },
      "execution_count": 54,
      "outputs": [
        {
          "output_type": "display_data",
          "data": {
            "text/plain": [
              "<Figure size 640x480 with 1 Axes>"
            ],
            "image/png": "[encoded data removed]"
          },
          "metadata": {}
        }
      ]
    },
    {
      "cell_type": "code",
      "source": [
        "mdata['month'].value_counts()\n"
      ],
      "metadata": {
        "colab": {
          "base_uri": "https://localhost:8080/"
        },
        "id": "a_o9sWfj6-hy",
        "outputId": "5cc3bc1e-53a4-49db-acb4-eaed6c70c35b"
      },
      "execution_count": 13,
      "outputs": [
        {
          "output_type": "execute_result",
          "data": {
            "text/plain": [
              "6     1023\n",
              "7      971\n",
              "9      671\n",
              "8      640\n",
              "10     254\n",
              "5      207\n",
              "11     103\n",
              "4      101\n",
              "3       81\n",
              "1       67\n",
              "12      53\n",
              "2       39\n",
              "Name: month, dtype: int64"
            ]
          },
          "metadata": {},
          "execution_count": 13
        }
      ]
    },
    {
      "cell_type": "code",
      "source": [
        "#pictures in June vs pictures in October\n",
        "#def showmonth(month1, month2):\n",
        "  \n"
      ],
      "metadata": {
        "id": "UPRajEahaWP7"
      },
      "execution_count": null,
      "outputs": []
    },
    {
      "cell_type": "markdown",
      "source": [
        "# **Clustering Based On Greenness**"
      ],
      "metadata": {
        "id": "mfZE75U7UALs"
      }
    },
    {
      "cell_type": "markdown",
      "source": [
        "Gives Individual Color Clusters"
      ],
      "metadata": {
        "id": "zQM_IYqG02D1"
      }
    },
    {
      "cell_type": "code",
      "source": [
        "for imgname in os.listdir('milkweed/img'):\n",
        "  img = cv2.imread('milkweed/img/' + imgname)\n",
        "  img = cv2.cvtColor(img, cv2.COLOR_BGR2RGB)\n",
        "  img = img.reshape((img.shape[0] * img.shape[1], 3))\n",
        "  clt = KMeans(n_clusters = 30)\n",
        "  clt.fit(img)\n",
        "  numLabels = np.arange(0, len(np.unique(clt.labels_)) + 1)\n",
        "  (hist, _) = np.histogram(clt.labels_, bins = numLabels)\n",
        "  hist = hist.astype(\"float\")\n",
        "  hist /= hist.sum()\n",
        "  bar = np.zeros((50, 300, 3), dtype = \"uint8\")\n",
        "  startX = 0\n",
        "  for (percent, color) in zip(hist, clt.cluster_centers_):\n",
        "    endX = startX + (percent * 300)\n",
        "    cv2.rectangle(bar, (int(startX), 0), (int(endX), 50), color.astype(\"uint8\").tolist(), -1)\n",
        "    startX = endX\n",
        "  \n",
        "  #plt.savefig(bar)\n",
        "  barname = imgname[:imgname.rindex('.')]\n",
        "  cv2.imwrite('milkweed/colorbars/' +barname+'.png',bar)\n",
        "\n",
        "\n",
        "\n",
        "\n",
        "  \n",
        "\n",
        " \n"
      ],
      "metadata": {
        "colab": {
          "base_uri": "https://localhost:8080/"
        },
        "id": "7jxe3JZFx8Sz",
        "outputId": "b4ec3e0a-f6ae-4a40-c5ee-aab0f3a8542e"
      },
      "execution_count": null,
      "outputs": [
        {
          "output_type": "stream",
          "name": "stderr",
          "text": [
            "/usr/local/lib/python3.10/dist-packages/sklearn/cluster/_kmeans.py:870: FutureWarning: The default value of `n_init` will change from 10 to 'auto' in 1.4. Set the value of `n_init` explicitly to suppress the warning\n",
            "  warnings.warn(\n"
          ]
        }
      ]
    }
  ],
  "metadata": {
    "accelerator": "TPU",
    "colab": {
      "machine_shape": "hm",
      "provenance": []
    },
    "gpuClass": "standard",
    "kernelspec": {
      "display_name": "Python 3",
      "name": "python3"
    },
    "language_info": {
      "name": "python"
    }
  },
  "nbformat": 4,
  "nbformat_minor": 0
}